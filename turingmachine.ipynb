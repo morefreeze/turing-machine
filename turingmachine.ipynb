{
 "cells": [
  {
   "cell_type": "code",
   "execution_count": 7,
   "metadata": {},
   "outputs": [],
   "source": [
    "a = [ [201, 798, 204, 796],\n",
    "    [206, 793, 212, 790],\n",
    "    [215, 786, 217, 783],\n",
    "    [220, 781, 223, 779],\n",
    "    [227, 776, 231, 773],\n",
    "    [233, 770, 237, 767],\n",
    "    [244, 765, 251, 759],\n",
    "    [253, 757, 256, 754],\n",
    "    [261, 750, 264, 747],\n",
    "    [267, 744, 270, 742],\n",
    "    [274, 740, 278, 738],\n",
    "    [280, 736, 282, 733],\n",
    "    [286, 729, 288, 725],\n",
    "    [293, 720, 296, 718],\n",
    "    [302, 715, 304, 710],\n",
    "    [309, 708, 312, 704],\n",
    "    [315, 699, 317, 696],\n",
    "    [322, 694, 325, 690],\n",
    "    [329, 687, 331, 684],\n",
    "    [334, 680, 337, 673],\n",
    "    [339, 669, 341, 667],\n",
    "    [346, 664, 348, 662],\n",
    "    [350, 658, 353, 656],\n",
    "    [356, 653, 358, 651],\n",
    "    [360, 649, 365, 647],\n",
    "    [370, 645, 373, 641],\n",
    "    [376, 639, 378, 637],\n",
    "    [381, 635, 385, 633],\n",
    "    [387, 631, 390, 629],\n",
    "    [392, 627, 394, 621],\n",
    "    [396, 617, 401, 615],\n",
    "    [403, 613, 405, 610],\n",
    "    [407, 608, 410, 605],\n",
    "    [413, 599, 416, 597],\n",
    "    [419, 595, 423, 593],\n",
    "    [429, 591, 432, 589],\n",
    "    [434, 587, 437, 585],\n",
    "    [440, 581, 442, 579],\n",
    "    [447, 577, 453, 573],\n",
    "    [455, 571, 459, 567],\n",
    "    [462, 564, 464, 562],\n",
    "    [470, 558, 472, 553],\n",
    "    [475, 550, 479, 547],\n",
    "    [481, 543, 483, 540],\n",
    "    [485, 536, 487, 533],\n",
    "    [491, 530, 495, 527],\n",
    "    [497, 523, 499, 518],\n",
    "    [503, 515, 505, 509],\n",
    "    [507, 506, 514, 504],\n",
    "    [516, 502, 520, 498],\n",
    "    [525, 496, 528, 492],\n",
    "    [532, 490, 534, 486],\n",
    "    [537, 484, 541, 482],\n",
    "    [546, 480, 549, 476],\n",
    "    [551, 474, 557, 471],\n",
    "    [560, 469, 563, 463],\n",
    "    [566, 461, 568, 458],\n",
    "    [572, 454, 576, 449],\n",
    "    [578, 445, 580, 441],\n",
    "    [582, 439, 586, 435],\n",
    "    [588, 433, 590, 430],\n",
    "    [592, 424, 594, 421],\n",
    "    [596, 418, 598, 414],\n",
    "    [604, 412, 606, 409],\n",
    "    [609, 406, 611, 404],\n",
    "    [614, 402, 616, 399],\n",
    "    [618, 395, 625, 393],\n",
    "    [628, 391, 630, 391],\n",
    "    [632, 386, 634, 382],\n",
    "    [636, 379, 638, 377],\n",
    "    [640, 374, 643, 372],\n",
    "    [646, 369, 648, 362],\n",
    "    [650, 359, 652, 357],\n",
    "    [654, 355, 657, 352],\n",
    "    [661, 349, 663, 347],\n",
    "    [665, 344, 668, 340],\n",
    "    [670, 338, 677, 335],\n",
    "    [681, 332, 686, 330],\n",
    "    [688, 327, 691, 324],\n",
    "    [695, 319, 697, 316],\n",
    "    [701, 314, 706, 311],\n",
    "    [709, 308, 714, 303],\n",
    "    [717, 299, 719, 294],\n",
    "    [723, 289, 726, 287],\n",
    "    [737, 279, 739, 277],\n",
    "    [741, 273, 743, 268],\n",
    "    [746, 266, 749, 263],\n",
    "    [751, 257, 755, 255],\n",
    "    [758, 252, 763, 247],\n",
    "    [766, 243, 769, 236],\n",
    "    [771, 232, 775, 228],\n",
    "    [778, 224, 780, 221],\n",
    "    [782, 219, 785, 216],\n",
    "    [787, 213, 792, 207],\n",
    "    [795, 205, 797, 202],]\n",
    "chk_idx = [46, 73, 92, 34, 37, 29, 41, 22, 77, 39, 79, 89, 59, 44, 52, 32, 74, 2, 24, 40, 0, 72, 93, 3, 0, 27, 28, 56, 0, 57, 85, 84, 66, 8, 80, 95, 91, 69, 63, 14, 18, 75, 19, 65, 71, 48, 51, 53, 67, 25, 4, 62, 6, 88, 17, 9, 86, 50, 47, 21, 33, 12, 45, 26, 15, 78, 20, 11, 23, 16, 87, 49, 92, 29, 31, 38, 77, 94, 46, 61, 7, 34, 41, 54, 68, 39, 1, 73, 35, 36, 37, 22, 42, 89, 59, 44, 52, 32, 74, 70, 58, 43, 76, 90, 0, 60, 13, 55, 81, 30, 5, 88, 10, 64, 46, 73, 61, 35, 7, 36, 92, 34, 37, 29, 41, 22, 31, 54, 42, 38, 68, 82, 77, 39, 79, 94, 1, 83, 63, 14, 18, 75, 19, 65, 57, 85, 84, 66, 8, 80, 84, 85, 57, 95, 91, 69, 2, 24, 40, 72, 93, 3, 72, 93, 3, 27, 28, 56, 2, 24, 40, 27, 28, 56, 57, 85, 84, 66, 8, 80, 95, 91, 69]\n",
    "len(chk_idx)"
   ]
  },
  {
   "cell_type": "code",
   "execution_count": 13,
   "metadata": {},
   "outputs": [
    {
     "data": {
      "text/plain": [
       "379"
      ]
     },
     "execution_count": 13,
     "metadata": {},
     "output_type": "execute_result"
    }
   ],
   "source": [
    "from collections import Counter\n",
    "t = Counter()\n",
    "aa = []\n",
    "for tt in a:\n",
    "    t.update(tt)\n",
    "    aa.extend(tt)\n",
    "len(aa)"
   ]
  },
  {
   "cell_type": "code",
   "execution_count": 21,
   "metadata": {},
   "outputs": [],
   "source": [
    "from collections import defaultdict, Counter\n",
    "import math\n",
    "\n",
    "def gen_code(b,y,p):\n",
    "    return (b-1)*25+(y-1)*5+(p-1)\n",
    "def dec_code(x):\n",
    "    blue = x // 25 + 1\n",
    "    yellow = (x // 5) % 5 + 1\n",
    "    purple = x % 5 + 1\n",
    "    return blue, yellow, purple\n",
    "def count_same(b,y,p):\n",
    "    if b==y==p:\n",
    "        return 3\n",
    "    return 2 if b==y or y==p or p==b else 0\n",
    "def count_order(b,y,p):\n",
    "    if b<y<p:\n",
    "        return -1\n",
    "    return 1 if b>y>p else 0\n",
    "def count_asc(b,y,p):\n",
    "    if y-b==1 and p-y==1:\n",
    "        return 3\n",
    "    if y-b==1 or p-y==1:\n",
    "        return 2\n",
    "    return 0\n",
    "def count_desc(b,y,p):\n",
    "    if b-y==1 and y-p==1:\n",
    "        return 3\n",
    "    if b-y==1 or y-p==1:\n",
    "        return 2\n",
    "    return 0\n",
    "def count_num(b,y,p, num):\n",
    "    return sum([x==num for x in [b,y,p]])\n",
    "\n",
    "criteria = [\n",
    "    [lambda b,y,p: b==1, lambda b,y,p: b>1],\n",
    "    [lambda b,y,p: b < 3, lambda b,y,p: b == 3, lambda b,y,p: b > 3],\n",
    "    [lambda b,y,p: y < 3, lambda b,y,p: y == 3, lambda b,y,p: y > 3],\n",
    "    [lambda b,y,p: y < 4, lambda b,y,p: y == 4, lambda b,y,p: y > 4],\n",
    "    [lambda b,y,p: b % 2 == 0, lambda b,y,p: b % 2 == 1],\n",
    "    # 5\n",
    "    [lambda b,y,p: y % 2 == 0, lambda b,y,p: y % 2 == 1],\n",
    "    [lambda b,y,p: p % 2 == 0, lambda b,y,p: p % 2 == 1],\n",
    "    [lambda b,y,p: sum([x==1 for x in [b,y,p]]) == 0, lambda b,y,p: sum([x==1 for x in [b,y,p]]) == 1, lambda b,y,p: sum([x==1 for x in [b,y,p]]) == 2, lambda b,y,p: sum([x==1 for x in [b,y,p]]) == 3, ],\n",
    "    [lambda b,y,p: sum([x==3 for x in [b,y,p]]) == 0, lambda b,y,p: sum([x==3 for x in [b,y,p]]) == 1, lambda b,y,p: sum([x==3 for x in [b,y,p]]) == 2, lambda b,y,p: sum([x==3 for x in [b,y,p]]) == 3, ],\n",
    "    [lambda b,y,p: sum([x==4 for x in [b,y,p]]) == 0, lambda b,y,p: sum([x==4 for x in [b,y,p]]) == 1, lambda b,y,p: sum([x==4 for x in [b,y,p]]) == 2, lambda b,y,p: sum([x==4 for x in [b,y,p]]) == 3, ],\n",
    "    # 10 above\n",
    "    [lambda b,y,p: b<y, lambda b,y,p: b==y, lambda b,y,p: b>y],\n",
    "    [lambda b,y,p: b<p, lambda b,y,p: b==p, lambda b,y,p: b>p],\n",
    "    [lambda b,y,p: y<p, lambda b,y,p: y==p, lambda b,y,p: y>p],\n",
    "    [lambda b,y,p: b<y and b<p, lambda b,y,p: y<b and y<p, lambda b,y,p: p<b and p<y],\n",
    "    [lambda b,y,p: b>y and b>p, lambda b,y,p: y>b and y>p, lambda b,y,p: p>b and p>y],\n",
    "    # 15 above\n",
    "    [lambda b,y,p: sum([x%2 for x in[b,y,p]]) < 2, lambda b,y,p: sum([x%2 for x in[b,y,p]]) >= 2],\n",
    "    [lambda b,y,p: sum([x%2 for x in[b,y,p]]) == 3, lambda b,y,p: sum([x%2 for x in[b,y,p]]) == 2, lambda b,y,p: sum([x%2 for x in[b,y,p]]) == 1, lambda b,y,p: sum([x%2 for x in[b,y,p]]) == 0],\n",
    "    [lambda b,y,p: sum([b,y,p]) % 2 == 0, lambda b,y,p: sum([b,y,p]) % 2 == 1],\n",
    "    [lambda b,y,p: b+y<6, lambda b,y,p: b+y==6, lambda b,y,p: b+y>6],\n",
    "    [lambda b,y,p: count_same(b,y,p)==3, lambda b,y,p: count_same(b,y,p)==2, lambda b,y,p: count_same(b,y,p)==0],\n",
    "    # 20 above\n",
    "    [lambda b,y,p: count_same(b,y,p)!=2, lambda b,y,p: count_same(b,y,p)==2],\n",
    "    [lambda b,y,p: count_order(b,y,p)==-1, lambda b,y,p: count_order(b,y,p)==1, lambda b,y,p: count_order(b,y,p)==0],\n",
    "    [lambda b,y,p: sum([b,y,p])<6, lambda b,y,p: sum([b,y,p])==6, lambda b,y,p: sum([b,y,p])>6],\n",
    "    [lambda b,y,p: count_asc(b,y,p)==3, lambda b,y,p: count_asc(b,y,p)==2, lambda b,y,p: count_asc(b,y,p)==0],\n",
    "    [lambda b,y,p: count_asc(b,y,p)==0 and count_desc(b,y,p)==0, lambda b,y,p: count_asc(b,y,p)==2 or count_desc(b,y,p)==2, lambda b,y,p: count_asc(b,y,p)==3 or count_desc(b,y,p)==3],\n",
    "    # 25\n",
    "    [lambda b,y,p: b<3, lambda b,y,p: y<3, lambda b,y,p: p<3],\n",
    "    [lambda b,y,p: b<4, lambda b,y,p: y<4, lambda b,y,p: p<4],\n",
    "    [lambda b,y,p: b==1, lambda b,y,p: y==1, lambda b,y,p: p==1],\n",
    "    [lambda b,y,p: b==3, lambda b,y,p: y==3, lambda b,y,p: p==3],\n",
    "    [lambda b,y,p: b==4, lambda b,y,p: y==4, lambda b,y,p: p==4],\n",
    "    # 30\n",
    "    [lambda b,y,p: b>1, lambda b,y,p: y>1, lambda b,y,p: p>1],\n",
    "    [lambda b,y,p: b>3, lambda b,y,p: y>3, lambda b,y,p: p>3],\n",
    "    [lambda b,y,p: b%2==0, lambda b,y,p: b%2==1, lambda b,y,p: y%2==0, lambda b,y,p: y%2==1, lambda b,y,p: p%2==0, lambda b,y,p: p%2==1],\n",
    "    [lambda b,y,p: b<=y and b<=p, lambda b,y,p: y<=b and y<=p, lambda b,y,p: p<=b and p<=y],\n",
    "    [lambda b,y,p: b>=y and b>=p, lambda b,y,p: y>=b and y>=p, lambda b,y,p: p>=b and p>=y],\n",
    "    # 35\n",
    "    [lambda b,y,p: sum([b,y,p])%3==0, lambda b,y,p: sum([b,y,p])%4==0, lambda b,y,p: sum([b,y,p])%5==0],\n",
    "    [lambda b,y,p: b+y==4, lambda b,y,p: b+p==4, lambda b,y,p: y+p==4],\n",
    "    [lambda b,y,p: b+y==6, lambda b,y,p: b+p==6, lambda b,y,p: y+p==6],\n",
    "    [lambda b,y,p: b==1, lambda b,y,p: b>1, lambda b,y,p: y==1, lambda b,y,p: y>1, lambda b,y,p: p==1, lambda b,y,p: p>1],\n",
    "    [lambda b,y,p: b<3, lambda b,y,p: b==3, lambda b,y,p: b>3, lambda b,y,p: y<3, lambda b,y,p: y==3, lambda b,y,p: y>3, lambda b,y,p: p<3, lambda b,y,p: p==3, lambda b,y,p: p>3],\n",
    "    # 40\n",
    "    [lambda b,y,p: b<4, lambda b,y,p: b==4, lambda b,y,p: b>4, lambda b,y,p: y<4, lambda b,y,p: y==4, lambda b,y,p: y>4, lambda b,y,p: p<4, lambda b,y,p: p==4, lambda b,y,p: p>4],\n",
    "    [lambda b,y,p: b<y and b<p, lambda b,y,p: b>y and b>p, lambda b,y,p: y<b and y<p, lambda b,y,p: y>b and y>p, lambda b,y,p: p<b and p<y, lambda b,y,p: p>b and p>y],\n",
    "    [lambda b,y,p: b<y, lambda b,y,p: b<p, lambda b,y,p: b==y, lambda b,y,p: b==p, lambda b,y,p: b>y, lambda b,y,p: b>p],\n",
    "    [lambda b,y,p: y<b, lambda b,y,p: y<p, lambda b,y,p: y==b, lambda b,y,p: y==p, lambda b,y,p: y>b, lambda b,y,p: y>p],\n",
    "    [lambda b,y,p: count_num(b,y,p, 1)==0, lambda b,y,p: count_num(b,y,p, 1)==1, lambda b,y,p: count_num(b,y,p, 1)==2, lambda b,y,p: count_num(b,y,p, 3)==0, lambda b,y,p: count_num(b,y,p, 3)==1, lambda b,y,p: count_num(b,y,p, 3)==2, ],\n",
    "    # 45\n",
    "    [lambda b,y,p: count_num(b,y,p, 3)==0, lambda b,y,p: count_num(b,y,p, 3)==1, lambda b,y,p: count_num(b,y,p, 3)==2, lambda b,y,p: count_num(b,y,p, 4)==0, lambda b,y,p: count_num(b,y,p, 4)==1, lambda b,y,p: count_num(b,y,p, 4)==2, ],\n",
    "    [lambda b,y,p: count_num(b,y,p, 1)==0, lambda b,y,p: count_num(b,y,p, 1)==1, lambda b,y,p: count_num(b,y,p, 1)==2, lambda b,y,p: count_num(b,y,p, 4)==0, lambda b,y,p: count_num(b,y,p, 4)==1, lambda b,y,p: count_num(b,y,p, 4)==2, ],\n",
    "    [lambda b,y,p: b<y, lambda b,y,p: b==y, lambda b,y,p: b>y, lambda b,y,p: b<p, lambda b,y,p: b==p, lambda b,y,p: b>p, lambda b,y,p: y<p, lambda b,y,p: y==p, lambda b,y,p: y>p],\n",
    "    # 48\n",
    "]\n",
    "\n",
    "res = defaultdict(lambda: defaultdict(int))\n",
    "for i, cri in enumerate(criteria):\n",
    "    for j, cond in enumerate(cri):\n",
    "        bitset = 0\n",
    "        for code in range(125):\n",
    "            blue = code // 25 + 1\n",
    "            yellow = (code // 5) % 5 + 1\n",
    "            purple = code % 5 + 1\n",
    "            bitset |= int(cond(blue, yellow, purple)) << code\n",
    "        res[i][j] = bitset\n",
    "\n",
    "def dfs(cris, sol, idx=0, bitset=(1<<125)-1):\n",
    "    if bitset == 0:\n",
    "        return False\n",
    "    if idx == len(cris):\n",
    "        if bitset & (bitset-1) == 0:\n",
    "            print('solve!', sol, dec_code(int(math.log2(bitset))))\n",
    "        return bitset & (bitset-1) == 0\n",
    "    for j, b in res[cris[idx]-1].items():\n",
    "        new_sol = sol[:]\n",
    "        new_sol.append((cris[idx], j))\n",
    "        dfs(cris, new_sol, idx+1, bitset & b)\n",
    "\n",
    "res_arr = []\n",
    "res_st = {0:0}\n",
    "for i, v in res.items():\n",
    "    res_st[i+1] = res_st[i] + len(v)\n",
    "    res_arr.extend(v.values())\n",
    "\n",
    "def find_real_cond(cri_no:int, sec_code:int)->(int, int, int):\n",
    "    for i in range(res_st[cri_no-1], res_st[cri_no]):\n",
    "        if sec_code in a[chk_idx[i]-1]:\n",
    "            return i, cri_no, i-res_st[cri_no-1]\n",
    "            \n",
    "            "
   ]
  },
  {
   "cell_type": "code",
   "execution_count": 2,
   "metadata": {},
   "outputs": [
    {
     "name": "stdout",
     "output_type": "stream",
     "text": [
      "solve! [(1, 0), (13, 1), (18, 1), (19, 0), (21, 0)] (1, 1, 1)\n",
      "solve! [(1, 0), (13, 1), (18, 1), (19, 1), (21, 1)] (1, 5, 5)\n",
      "solve! [(1, 0), (13, 2), (18, 1), (19, 0), (21, 0)] (1, 4, 2)\n",
      "solve! [(1, 0), (13, 2), (18, 1), (19, 0), (21, 1)] (1, 3, 1)\n",
      "solve! [(1, 0), (13, 2), (18, 1), (19, 1), (21, 0)] (1, 5, 3)\n",
      "solve! [(1, 0), (13, 2), (18, 1), (19, 1), (21, 1)] (1, 5, 1)\n",
      "solve! [(1, 1), (13, 0), (18, 1), (19, 2), (21, 0)] (5, 2, 4)\n",
      "solve! [(1, 1), (13, 1), (18, 0), (19, 0), (21, 0)] (2, 2, 2)\n",
      "solve! [(1, 1), (13, 1), (18, 0), (19, 2), (21, 0)] (4, 4, 4)\n",
      "solve! [(1, 1), (13, 1), (18, 1), (19, 1), (21, 0)] (3, 3, 3)\n",
      "solve! [(1, 1), (13, 1), (18, 1), (19, 1), (21, 1)] (5, 1, 1)\n",
      "solve! [(1, 1), (13, 1), (18, 1), (19, 2), (21, 0)] (5, 5, 5)\n",
      "solve! [(1, 1), (13, 2), (18, 1), (19, 1), (21, 1)] (3, 3, 1)\n"
     ]
    },
    {
     "data": {
      "text/plain": [
       "[]"
      ]
     },
     "execution_count": 2,
     "metadata": {},
     "output_type": "execute_result"
    }
   ],
   "source": [
    "# my_cris = [1,6,16,21]\n",
    "my_cris = [2,6,10,11]\n",
    "my_cris = [1,13,18,19,21]\n",
    "sol = []\n",
    "dfs(my_cris, sol)"
   ]
  },
  {
   "cell_type": "code",
   "execution_count": 26,
   "metadata": {},
   "outputs": [
    {
     "name": "stdout",
     "output_type": "stream",
     "text": [
      "50 52\n",
      "chk 3 [220, 781, 223, 779]\n",
      "chk 61 [592, 424, 594, 421]\n"
     ]
    },
    {
     "data": {
      "text/plain": [
       "(51, 18, 1)"
      ]
     },
     "execution_count": 26,
     "metadata": {},
     "output_type": "execute_result"
    }
   ],
   "source": [
    "def find_real_cond(cri_no:int, sec_code:int)->(int, int, int):\n",
    "    print(res_st[cri_no-1], res_st[cri_no])\n",
    "    for i in range(res_st[cri_no-1], res_st[cri_no]):\n",
    "        print('chk', chk_idx[i]-1, a[chk_idx[i]-1])\n",
    "        if sec_code in a[chk_idx[i]-1]:\n",
    "            return i, cri_no, i-res_st[cri_no-1]\n",
    "            \n",
    "find_real_cond(18, 421)"
   ]
  },
  {
   "cell_type": "code",
   "execution_count": 20,
   "metadata": {},
   "outputs": [
    {
     "data": {
      "text/plain": [
       "{0: 0}"
      ]
     },
     "execution_count": 20,
     "metadata": {},
     "output_type": "execute_result"
    }
   ],
   "source": [
    "res_st"
   ]
  },
  {
   "cell_type": "code",
   "execution_count": 13,
   "metadata": {},
   "outputs": [
    {
     "data": {
      "text/plain": [
       "98"
      ]
     },
     "execution_count": 13,
     "metadata": {},
     "output_type": "execute_result"
    }
   ],
   "source": [
    "len(set(res_arr))"
   ]
  },
  {
   "cell_type": "code",
   "execution_count": 38,
   "metadata": {},
   "outputs": [
    {
     "name": "stdout",
     "output_type": "stream",
     "text": [
      "0 1\n",
      "1 2\n",
      "2 3\n"
     ]
    }
   ],
   "source": [
    "for i, k in enumerate([1,2,3]):\n",
    "    print(i, k)"
   ]
  },
  {
   "cell_type": "code",
   "execution_count": null,
   "metadata": {},
   "outputs": [],
   "source": []
  }
 ],
 "metadata": {
  "kernelspec": {
   "display_name": "Python 3",
   "language": "python",
   "name": "python3"
  },
  "language_info": {
   "codemirror_mode": {
    "name": "ipython",
    "version": 3
   },
   "file_extension": ".py",
   "mimetype": "text/x-python",
   "name": "python",
   "nbconvert_exporter": "python",
   "pygments_lexer": "ipython3",
   "version": "3.10.4"
  }
 },
 "nbformat": 4,
 "nbformat_minor": 2
}
